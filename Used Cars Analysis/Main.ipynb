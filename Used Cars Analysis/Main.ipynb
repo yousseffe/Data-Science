{
 "cells": [
  {
   "metadata": {},
   "cell_type": "markdown",
   "source": [
    "# This is a sample Jupyter Notebook\n",
    "\n",
    "Below is an example of a code cell. \n",
    "Put your cursor into the cell and press Shift+Enter to execute it and select the next one, or click !here goes the icon of the corresponding button in the gutter! button.\n",
    "To debug a cell, press Alt+Shift+Enter, or click !here goes the icon of the corresponding button in the gutter! button.\n",
    "\n",
    "Press Double Shift to search everywhere for classes, files, tool windows, actions, and settings.\n",
    "\n",
    "To learn more about Jupyter Notebooks in PyCharm, see [help](https://www.jetbrains.com/help/pycharm/jupyter-notebook-support.html).\n",
    "For an overview of PyCharm, go to Help -> Learn IDE features or refer to [our documentation](https://www.jetbrains.com/help/pycharm/getting-started.html)."
   ],
   "id": "8a77807f92f26ee"
  },
  {
   "metadata": {
    "ExecuteTime": {
     "end_time": "2024-12-16T16:33:41.454758Z",
     "start_time": "2024-12-16T16:33:41.450334Z"
    }
   },
   "cell_type": "code",
   "source": [
    "import pandas as pd\n",
    "import matplotlib.pyplot as plt\n",
    "import numpy as np\n",
    "import seaborn as sns\n",
    "import datetime\n",
    "import warnings\n",
    "import kagglehub"
   ],
   "id": "fbc121e30a2defb3",
   "outputs": [],
   "execution_count": 3
  },
  {
   "metadata": {
    "ExecuteTime": {
     "end_time": "2024-12-16T16:32:09.368198Z",
     "start_time": "2024-12-16T16:27:43.072822Z"
    }
   },
   "cell_type": "code",
   "source": [
    "path = kagglehub.dataset_download(\"austinreese/craigslist-carstrucks-data\")\n",
    "\n",
    "print(\"Path to dataset files:\", path)"
   ],
   "id": "fd394012c573adb4",
   "outputs": [
    {
     "name": "stdout",
     "output_type": "stream",
     "text": [
      "Warning: Looks like you're using an outdated `kagglehub` version, please consider updating (latest version: 0.3.5)\n",
      "Downloading from https://www.kaggle.com/api/v1/datasets/download/austinreese/craigslist-carstrucks-data?dataset_version_number=10...\n"
     ]
    },
    {
     "name": "stderr",
     "output_type": "stream",
     "text": [
      "100%|██████████| 262M/262M [04:19<00:00, 1.06MB/s] "
     ]
    },
    {
     "name": "stdout",
     "output_type": "stream",
     "text": [
      "Extracting model files...\n"
     ]
    },
    {
     "name": "stderr",
     "output_type": "stream",
     "text": [
      "\n"
     ]
    },
    {
     "name": "stdout",
     "output_type": "stream",
     "text": [
      "Path to dataset files: C:\\Users\\youss\\.cache\\kagglehub\\datasets\\austinreese\\craigslist-carstrucks-data\\versions\\10\n"
     ]
    }
   ],
   "execution_count": 2
  },
  {
   "metadata": {},
   "cell_type": "markdown",
   "source": "# Reading the DataSet\n",
   "id": "ccd32780bacdb786"
  },
  {
   "metadata": {
    "ExecuteTime": {
     "end_time": "2024-12-16T16:34:34.066743Z",
     "start_time": "2024-12-16T16:34:14.170427Z"
    }
   },
   "cell_type": "code",
   "source": [
    "df = pd.read_csv(r\"C:\\Users\\youss\\.cache\\kagglehub\\datasets\\austinreese\\craigslist-carstrucks-data\\versions\\10\\vehicles.csv\")\n",
    "df.head()\n",
    "print(df.info())"
   ],
   "id": "e2505b7f41f7278b",
   "outputs": [
    {
     "name": "stdout",
     "output_type": "stream",
     "text": [
      "<class 'pandas.core.frame.DataFrame'>\n",
      "RangeIndex: 426880 entries, 0 to 426879\n",
      "Data columns (total 26 columns):\n",
      " #   Column        Non-Null Count   Dtype  \n",
      "---  ------        --------------   -----  \n",
      " 0   id            426880 non-null  int64  \n",
      " 1   url           426880 non-null  object \n",
      " 2   region        426880 non-null  object \n",
      " 3   region_url    426880 non-null  object \n",
      " 4   price         426880 non-null  int64  \n",
      " 5   year          425675 non-null  float64\n",
      " 6   manufacturer  409234 non-null  object \n",
      " 7   model         421603 non-null  object \n",
      " 8   condition     252776 non-null  object \n",
      " 9   cylinders     249202 non-null  object \n",
      " 10  fuel          423867 non-null  object \n",
      " 11  odometer      422480 non-null  float64\n",
      " 12  title_status  418638 non-null  object \n",
      " 13  transmission  424324 non-null  object \n",
      " 14  VIN           265838 non-null  object \n",
      " 15  drive         296313 non-null  object \n",
      " 16  size          120519 non-null  object \n",
      " 17  type          334022 non-null  object \n",
      " 18  paint_color   296677 non-null  object \n",
      " 19  image_url     426812 non-null  object \n",
      " 20  description   426810 non-null  object \n",
      " 21  county        0 non-null       float64\n",
      " 22  state         426880 non-null  object \n",
      " 23  lat           420331 non-null  float64\n",
      " 24  long          420331 non-null  float64\n",
      " 25  posting_date  426812 non-null  object \n",
      "dtypes: float64(5), int64(2), object(19)\n",
      "memory usage: 84.7+ MB\n",
      "None\n"
     ]
    }
   ],
   "execution_count": 4
  },
  {
   "metadata": {
    "ExecuteTime": {
     "end_time": "2024-12-16T16:42:25.077022Z",
     "start_time": "2024-12-16T16:42:25.060657Z"
    }
   },
   "cell_type": "code",
   "source": "df.head()",
   "id": "3a6f579084152754",
   "outputs": [
    {
     "data": {
      "text/plain": [
       "           id                                                url  \\\n",
       "0  7222695916  https://prescott.craigslist.org/cto/d/prescott...   \n",
       "1  7218891961  https://fayar.craigslist.org/ctd/d/bentonville...   \n",
       "2  7221797935  https://keys.craigslist.org/cto/d/summerland-k...   \n",
       "3  7222270760  https://worcester.craigslist.org/cto/d/west-br...   \n",
       "4  7210384030  https://greensboro.craigslist.org/cto/d/trinit...   \n",
       "\n",
       "                   region                         region_url  price  year  \\\n",
       "0                prescott    https://prescott.craigslist.org   6000   NaN   \n",
       "1            fayetteville       https://fayar.craigslist.org  11900   NaN   \n",
       "2            florida keys        https://keys.craigslist.org  21000   NaN   \n",
       "3  worcester / central MA   https://worcester.craigslist.org   1500   NaN   \n",
       "4              greensboro  https://greensboro.craigslist.org   4900   NaN   \n",
       "\n",
       "  manufacturer model condition cylinders  ... size  type paint_color  \\\n",
       "0          NaN   NaN       NaN       NaN  ...  NaN   NaN         NaN   \n",
       "1          NaN   NaN       NaN       NaN  ...  NaN   NaN         NaN   \n",
       "2          NaN   NaN       NaN       NaN  ...  NaN   NaN         NaN   \n",
       "3          NaN   NaN       NaN       NaN  ...  NaN   NaN         NaN   \n",
       "4          NaN   NaN       NaN       NaN  ...  NaN   NaN         NaN   \n",
       "\n",
       "  image_url description county state lat long posting_date  \n",
       "0       NaN         NaN    NaN    az NaN  NaN          NaN  \n",
       "1       NaN         NaN    NaN    ar NaN  NaN          NaN  \n",
       "2       NaN         NaN    NaN    fl NaN  NaN          NaN  \n",
       "3       NaN         NaN    NaN    ma NaN  NaN          NaN  \n",
       "4       NaN         NaN    NaN    nc NaN  NaN          NaN  \n",
       "\n",
       "[5 rows x 26 columns]"
      ],
      "text/html": [
       "<div>\n",
       "<style scoped>\n",
       "    .dataframe tbody tr th:only-of-type {\n",
       "        vertical-align: middle;\n",
       "    }\n",
       "\n",
       "    .dataframe tbody tr th {\n",
       "        vertical-align: top;\n",
       "    }\n",
       "\n",
       "    .dataframe thead th {\n",
       "        text-align: right;\n",
       "    }\n",
       "</style>\n",
       "<table border=\"1\" class=\"dataframe\">\n",
       "  <thead>\n",
       "    <tr style=\"text-align: right;\">\n",
       "      <th></th>\n",
       "      <th>id</th>\n",
       "      <th>url</th>\n",
       "      <th>region</th>\n",
       "      <th>region_url</th>\n",
       "      <th>price</th>\n",
       "      <th>year</th>\n",
       "      <th>manufacturer</th>\n",
       "      <th>model</th>\n",
       "      <th>condition</th>\n",
       "      <th>cylinders</th>\n",
       "      <th>...</th>\n",
       "      <th>size</th>\n",
       "      <th>type</th>\n",
       "      <th>paint_color</th>\n",
       "      <th>image_url</th>\n",
       "      <th>description</th>\n",
       "      <th>county</th>\n",
       "      <th>state</th>\n",
       "      <th>lat</th>\n",
       "      <th>long</th>\n",
       "      <th>posting_date</th>\n",
       "    </tr>\n",
       "  </thead>\n",
       "  <tbody>\n",
       "    <tr>\n",
       "      <th>0</th>\n",
       "      <td>7222695916</td>\n",
       "      <td>https://prescott.craigslist.org/cto/d/prescott...</td>\n",
       "      <td>prescott</td>\n",
       "      <td>https://prescott.craigslist.org</td>\n",
       "      <td>6000</td>\n",
       "      <td>NaN</td>\n",
       "      <td>NaN</td>\n",
       "      <td>NaN</td>\n",
       "      <td>NaN</td>\n",
       "      <td>NaN</td>\n",
       "      <td>...</td>\n",
       "      <td>NaN</td>\n",
       "      <td>NaN</td>\n",
       "      <td>NaN</td>\n",
       "      <td>NaN</td>\n",
       "      <td>NaN</td>\n",
       "      <td>NaN</td>\n",
       "      <td>az</td>\n",
       "      <td>NaN</td>\n",
       "      <td>NaN</td>\n",
       "      <td>NaN</td>\n",
       "    </tr>\n",
       "    <tr>\n",
       "      <th>1</th>\n",
       "      <td>7218891961</td>\n",
       "      <td>https://fayar.craigslist.org/ctd/d/bentonville...</td>\n",
       "      <td>fayetteville</td>\n",
       "      <td>https://fayar.craigslist.org</td>\n",
       "      <td>11900</td>\n",
       "      <td>NaN</td>\n",
       "      <td>NaN</td>\n",
       "      <td>NaN</td>\n",
       "      <td>NaN</td>\n",
       "      <td>NaN</td>\n",
       "      <td>...</td>\n",
       "      <td>NaN</td>\n",
       "      <td>NaN</td>\n",
       "      <td>NaN</td>\n",
       "      <td>NaN</td>\n",
       "      <td>NaN</td>\n",
       "      <td>NaN</td>\n",
       "      <td>ar</td>\n",
       "      <td>NaN</td>\n",
       "      <td>NaN</td>\n",
       "      <td>NaN</td>\n",
       "    </tr>\n",
       "    <tr>\n",
       "      <th>2</th>\n",
       "      <td>7221797935</td>\n",
       "      <td>https://keys.craigslist.org/cto/d/summerland-k...</td>\n",
       "      <td>florida keys</td>\n",
       "      <td>https://keys.craigslist.org</td>\n",
       "      <td>21000</td>\n",
       "      <td>NaN</td>\n",
       "      <td>NaN</td>\n",
       "      <td>NaN</td>\n",
       "      <td>NaN</td>\n",
       "      <td>NaN</td>\n",
       "      <td>...</td>\n",
       "      <td>NaN</td>\n",
       "      <td>NaN</td>\n",
       "      <td>NaN</td>\n",
       "      <td>NaN</td>\n",
       "      <td>NaN</td>\n",
       "      <td>NaN</td>\n",
       "      <td>fl</td>\n",
       "      <td>NaN</td>\n",
       "      <td>NaN</td>\n",
       "      <td>NaN</td>\n",
       "    </tr>\n",
       "    <tr>\n",
       "      <th>3</th>\n",
       "      <td>7222270760</td>\n",
       "      <td>https://worcester.craigslist.org/cto/d/west-br...</td>\n",
       "      <td>worcester / central MA</td>\n",
       "      <td>https://worcester.craigslist.org</td>\n",
       "      <td>1500</td>\n",
       "      <td>NaN</td>\n",
       "      <td>NaN</td>\n",
       "      <td>NaN</td>\n",
       "      <td>NaN</td>\n",
       "      <td>NaN</td>\n",
       "      <td>...</td>\n",
       "      <td>NaN</td>\n",
       "      <td>NaN</td>\n",
       "      <td>NaN</td>\n",
       "      <td>NaN</td>\n",
       "      <td>NaN</td>\n",
       "      <td>NaN</td>\n",
       "      <td>ma</td>\n",
       "      <td>NaN</td>\n",
       "      <td>NaN</td>\n",
       "      <td>NaN</td>\n",
       "    </tr>\n",
       "    <tr>\n",
       "      <th>4</th>\n",
       "      <td>7210384030</td>\n",
       "      <td>https://greensboro.craigslist.org/cto/d/trinit...</td>\n",
       "      <td>greensboro</td>\n",
       "      <td>https://greensboro.craigslist.org</td>\n",
       "      <td>4900</td>\n",
       "      <td>NaN</td>\n",
       "      <td>NaN</td>\n",
       "      <td>NaN</td>\n",
       "      <td>NaN</td>\n",
       "      <td>NaN</td>\n",
       "      <td>...</td>\n",
       "      <td>NaN</td>\n",
       "      <td>NaN</td>\n",
       "      <td>NaN</td>\n",
       "      <td>NaN</td>\n",
       "      <td>NaN</td>\n",
       "      <td>NaN</td>\n",
       "      <td>nc</td>\n",
       "      <td>NaN</td>\n",
       "      <td>NaN</td>\n",
       "      <td>NaN</td>\n",
       "    </tr>\n",
       "  </tbody>\n",
       "</table>\n",
       "<p>5 rows × 26 columns</p>\n",
       "</div>"
      ]
     },
     "execution_count": 8,
     "metadata": {},
     "output_type": "execute_result"
    }
   ],
   "execution_count": 8
  },
  {
   "metadata": {},
   "cell_type": "markdown",
   "source": "# Data Cleaning",
   "id": "20acb38d5e359f8"
  },
  {
   "metadata": {
    "ExecuteTime": {
     "end_time": "2024-12-16T16:43:08.136792Z",
     "start_time": "2024-12-16T16:43:08.130736Z"
    }
   },
   "cell_type": "code",
   "source": "df.shape",
   "id": "1a6d3197b5108626",
   "outputs": [
    {
     "data": {
      "text/plain": [
       "(426880, 26)"
      ]
     },
     "execution_count": 9,
     "metadata": {},
     "output_type": "execute_result"
    }
   ],
   "execution_count": 9
  },
  {
   "metadata": {
    "ExecuteTime": {
     "end_time": "2024-12-16T16:43:17.571514Z",
     "start_time": "2024-12-16T16:43:17.318185Z"
    }
   },
   "cell_type": "code",
   "source": "df.isnull().sum()",
   "id": "34ee38f96a992d44",
   "outputs": [
    {
     "data": {
      "text/plain": [
       "id                   0\n",
       "url                  0\n",
       "region               0\n",
       "region_url           0\n",
       "price                0\n",
       "year              1205\n",
       "manufacturer     17646\n",
       "model             5277\n",
       "condition       174104\n",
       "cylinders       177678\n",
       "fuel              3013\n",
       "odometer          4400\n",
       "title_status      8242\n",
       "transmission      2556\n",
       "VIN             161042\n",
       "drive           130567\n",
       "size            306361\n",
       "type             92858\n",
       "paint_color     130203\n",
       "image_url           68\n",
       "description         70\n",
       "county          426880\n",
       "state                0\n",
       "lat               6549\n",
       "long              6549\n",
       "posting_date        68\n",
       "dtype: int64"
      ]
     },
     "execution_count": 10,
     "metadata": {},
     "output_type": "execute_result"
    }
   ],
   "execution_count": 10
  },
  {
   "metadata": {
    "ExecuteTime": {
     "end_time": "2024-12-16T16:47:45.602194Z",
     "start_time": "2024-12-16T16:47:45.501160Z"
    }
   },
   "cell_type": "code",
   "source": "df.describe()",
   "id": "31e8eddc6e0d8d8",
   "outputs": [
    {
     "data": {
      "text/plain": [
       "                 id         price           year      odometer  county  \\\n",
       "count  4.268800e+05  4.268800e+05  425675.000000  4.224800e+05     0.0   \n",
       "mean   7.311487e+09  7.519903e+04    2011.235191  9.804333e+04     NaN   \n",
       "std    4.473170e+06  1.218228e+07       9.452120  2.138815e+05     NaN   \n",
       "min    7.207408e+09  0.000000e+00    1900.000000  0.000000e+00     NaN   \n",
       "25%    7.308143e+09  5.900000e+03    2008.000000  3.770400e+04     NaN   \n",
       "50%    7.312621e+09  1.395000e+04    2013.000000  8.554800e+04     NaN   \n",
       "75%    7.315254e+09  2.648575e+04    2017.000000  1.335425e+05     NaN   \n",
       "max    7.317101e+09  3.736929e+09    2022.000000  1.000000e+07     NaN   \n",
       "\n",
       "                 lat           long  \n",
       "count  420331.000000  420331.000000  \n",
       "mean       38.493940     -94.748599  \n",
       "std         5.841533      18.365462  \n",
       "min       -84.122245    -159.827728  \n",
       "25%        34.601900    -111.939847  \n",
       "50%        39.150100     -88.432600  \n",
       "75%        42.398900     -80.832039  \n",
       "max        82.390818     173.885502  "
      ],
      "text/html": [
       "<div>\n",
       "<style scoped>\n",
       "    .dataframe tbody tr th:only-of-type {\n",
       "        vertical-align: middle;\n",
       "    }\n",
       "\n",
       "    .dataframe tbody tr th {\n",
       "        vertical-align: top;\n",
       "    }\n",
       "\n",
       "    .dataframe thead th {\n",
       "        text-align: right;\n",
       "    }\n",
       "</style>\n",
       "<table border=\"1\" class=\"dataframe\">\n",
       "  <thead>\n",
       "    <tr style=\"text-align: right;\">\n",
       "      <th></th>\n",
       "      <th>id</th>\n",
       "      <th>price</th>\n",
       "      <th>year</th>\n",
       "      <th>odometer</th>\n",
       "      <th>county</th>\n",
       "      <th>lat</th>\n",
       "      <th>long</th>\n",
       "    </tr>\n",
       "  </thead>\n",
       "  <tbody>\n",
       "    <tr>\n",
       "      <th>count</th>\n",
       "      <td>4.268800e+05</td>\n",
       "      <td>4.268800e+05</td>\n",
       "      <td>425675.000000</td>\n",
       "      <td>4.224800e+05</td>\n",
       "      <td>0.0</td>\n",
       "      <td>420331.000000</td>\n",
       "      <td>420331.000000</td>\n",
       "    </tr>\n",
       "    <tr>\n",
       "      <th>mean</th>\n",
       "      <td>7.311487e+09</td>\n",
       "      <td>7.519903e+04</td>\n",
       "      <td>2011.235191</td>\n",
       "      <td>9.804333e+04</td>\n",
       "      <td>NaN</td>\n",
       "      <td>38.493940</td>\n",
       "      <td>-94.748599</td>\n",
       "    </tr>\n",
       "    <tr>\n",
       "      <th>std</th>\n",
       "      <td>4.473170e+06</td>\n",
       "      <td>1.218228e+07</td>\n",
       "      <td>9.452120</td>\n",
       "      <td>2.138815e+05</td>\n",
       "      <td>NaN</td>\n",
       "      <td>5.841533</td>\n",
       "      <td>18.365462</td>\n",
       "    </tr>\n",
       "    <tr>\n",
       "      <th>min</th>\n",
       "      <td>7.207408e+09</td>\n",
       "      <td>0.000000e+00</td>\n",
       "      <td>1900.000000</td>\n",
       "      <td>0.000000e+00</td>\n",
       "      <td>NaN</td>\n",
       "      <td>-84.122245</td>\n",
       "      <td>-159.827728</td>\n",
       "    </tr>\n",
       "    <tr>\n",
       "      <th>25%</th>\n",
       "      <td>7.308143e+09</td>\n",
       "      <td>5.900000e+03</td>\n",
       "      <td>2008.000000</td>\n",
       "      <td>3.770400e+04</td>\n",
       "      <td>NaN</td>\n",
       "      <td>34.601900</td>\n",
       "      <td>-111.939847</td>\n",
       "    </tr>\n",
       "    <tr>\n",
       "      <th>50%</th>\n",
       "      <td>7.312621e+09</td>\n",
       "      <td>1.395000e+04</td>\n",
       "      <td>2013.000000</td>\n",
       "      <td>8.554800e+04</td>\n",
       "      <td>NaN</td>\n",
       "      <td>39.150100</td>\n",
       "      <td>-88.432600</td>\n",
       "    </tr>\n",
       "    <tr>\n",
       "      <th>75%</th>\n",
       "      <td>7.315254e+09</td>\n",
       "      <td>2.648575e+04</td>\n",
       "      <td>2017.000000</td>\n",
       "      <td>1.335425e+05</td>\n",
       "      <td>NaN</td>\n",
       "      <td>42.398900</td>\n",
       "      <td>-80.832039</td>\n",
       "    </tr>\n",
       "    <tr>\n",
       "      <th>max</th>\n",
       "      <td>7.317101e+09</td>\n",
       "      <td>3.736929e+09</td>\n",
       "      <td>2022.000000</td>\n",
       "      <td>1.000000e+07</td>\n",
       "      <td>NaN</td>\n",
       "      <td>82.390818</td>\n",
       "      <td>173.885502</td>\n",
       "    </tr>\n",
       "  </tbody>\n",
       "</table>\n",
       "</div>"
      ]
     },
     "execution_count": 11,
     "metadata": {},
     "output_type": "execute_result"
    }
   ],
   "execution_count": 11
  },
  {
   "metadata": {
    "ExecuteTime": {
     "end_time": "2024-12-16T16:48:03.113246Z",
     "start_time": "2024-12-16T16:48:03.105814Z"
    }
   },
   "cell_type": "code",
   "source": [
    "\n",
    "df.dtypes"
   ],
   "id": "f4c921d21aa76e3c",
   "outputs": [
    {
     "data": {
      "text/plain": [
       "id                int64\n",
       "url              object\n",
       "region           object\n",
       "region_url       object\n",
       "price             int64\n",
       "year            float64\n",
       "manufacturer     object\n",
       "model            object\n",
       "condition        object\n",
       "cylinders        object\n",
       "fuel             object\n",
       "odometer        float64\n",
       "title_status     object\n",
       "transmission     object\n",
       "VIN              object\n",
       "drive            object\n",
       "size             object\n",
       "type             object\n",
       "paint_color      object\n",
       "image_url        object\n",
       "description      object\n",
       "county          float64\n",
       "state            object\n",
       "lat             float64\n",
       "long            float64\n",
       "posting_date     object\n",
       "dtype: object"
      ]
     },
     "execution_count": 12,
     "metadata": {},
     "output_type": "execute_result"
    }
   ],
   "execution_count": 12
  },
  {
   "metadata": {},
   "cell_type": "markdown",
   "source": [
    "# Data Visualization\n",
    "# 1. What is the average price of used cars by manufacturer?"
   ],
   "id": "6db5a0d31fd0f151"
  },
  {
   "metadata": {
    "ExecuteTime": {
     "end_time": "2024-12-16T16:51:32.410964Z",
     "start_time": "2024-12-16T16:51:32.377951Z"
    }
   },
   "cell_type": "code",
   "source": [
    "avg_price_by_manufacturer = df.groupby('manufacturer').price.mean()\n",
    "print(avg_price_by_manufacturer)"
   ],
   "id": "d46856fd8424f644",
   "outputs": [
    {
     "name": "stdout",
     "output_type": "stream",
     "text": [
      "manufacturer\n",
      "acura               19842.869522\n",
      "alfa-romeo          28237.348941\n",
      "aston-martin        53494.541667\n",
      "audi                23574.849993\n",
      "bmw                 26740.261446\n",
      "buick               36784.954736\n",
      "cadillac            19439.520926\n",
      "chevrolet          115676.101645\n",
      "chrysler            10442.946609\n",
      "datsun              15149.666667\n",
      "dodge               15003.200554\n",
      "ferrari            107438.736842\n",
      "fiat                11890.517677\n",
      "ford                36411.718025\n",
      "gmc                 30405.877152\n",
      "harley-davidson     12129.790850\n",
      "honda               10751.363722\n",
      "hyundai             10719.659412\n",
      "infiniti            19561.849229\n",
      "jaguar              26549.176259\n",
      "jeep               150717.819659\n",
      "kia                 11083.324820\n",
      "land rover           7911.095238\n",
      "lexus               19206.152683\n",
      "lincoln             19802.274645\n",
      "mazda               12345.607702\n",
      "mercedes-benz      531710.557333\n",
      "mercury              5482.536318\n",
      "mini                14163.474747\n",
      "mitsubishi          13743.070778\n",
      "morgan              13100.000000\n",
      "nissan              18827.332826\n",
      "pontiac              8176.903409\n",
      "porsche             31946.061416\n",
      "ram                 27728.339167\n",
      "rover               27182.898722\n",
      "saturn               6881.734862\n",
      "subaru              13055.512586\n",
      "tesla               38354.456221\n",
      "toyota             234294.682621\n",
      "volkswagen          12537.098769\n",
      "volvo              383755.147896\n",
      "Name: price, dtype: float64\n"
     ]
    }
   ],
   "execution_count": 14
  },
  {
   "metadata": {},
   "cell_type": "markdown",
   "source": "# 2.What is the average price of used cars by year?",
   "id": "d878a96a8ca7270d"
  },
  {
   "metadata": {
    "ExecuteTime": {
     "end_time": "2024-12-16T16:52:10.774760Z",
     "start_time": "2024-12-16T16:52:10.755455Z"
    }
   },
   "cell_type": "code",
   "source": [
    "avg_price_by_year = df.groupby('year').price.mean()\n",
    "print(avg_price_by_year)"
   ],
   "id": "7c72e28ef9376ce2",
   "outputs": [
    {
     "name": "stdout",
     "output_type": "stream",
     "text": [
      "year\n",
      "1900.0    3.694167e+03\n",
      "1901.0    1.699667e+03\n",
      "1902.0    1.666666e+06\n",
      "1903.0    0.000000e+00\n",
      "1905.0    3.990000e+03\n",
      "              ...     \n",
      "2018.0    2.636861e+04\n",
      "2019.0    3.297553e+04\n",
      "2020.0    9.189771e+04\n",
      "2021.0    1.338055e+06\n",
      "2022.0    2.736705e+04\n",
      "Name: price, Length: 114, dtype: float64\n"
     ]
    }
   ],
   "execution_count": 15
  },
  {
   "metadata": {},
   "cell_type": "markdown",
   "source": "# 3. What is the average price of used cars by model?",
   "id": "99d8156688223427"
  },
  {
   "metadata": {
    "ExecuteTime": {
     "end_time": "2024-12-16T16:52:14.983888Z",
     "start_time": "2024-12-16T16:52:14.902892Z"
    }
   },
   "cell_type": "code",
   "source": [
    "avg_price_by_model = df.groupby('model').price.mean()\n",
    "print(avg_price_by_model)"
   ],
   "id": "cd1cf3183bd51c94",
   "outputs": [
    {
     "name": "stdout",
     "output_type": "stream",
     "text": [
      "model\n",
      "\"t\"                                                                                      27000.0\n",
      "$362.47, $1000 down, oac, 2.9%apr $362.47,luxury low miles $1000 down, only 40k miles    24900.0\n",
      "%                                                                                         1000.0\n",
      "& altima                                                                                  3045.0\n",
      "'50 Business Coupe                                                                       10000.0\n",
      "                                                                                          ...   \n",
      "♦ALL TADES WELCOME!♦                                                                       500.0\n",
      "♿                                                                                        10999.0\n",
      "♿ vmi                                                                                    10997.0\n",
      "𝓜𝓮𝓻𝓬𝓮𝓭𝓮𝓼 𝓫𝓮𝓷𝔃 𝓶𝓵 350                                                                      3900.0\n",
      "🔥GMC Sierra 1500 SLE🔥 4X4 🔥                                                               9999.0\n",
      "Name: price, Length: 29667, dtype: float64\n"
     ]
    }
   ],
   "execution_count": 16
  },
  {
   "metadata": {},
   "cell_type": "markdown",
   "source": "# 4. What is the average price of used cars by condition?",
   "id": "368d151a505d4ffc"
  },
  {
   "metadata": {
    "ExecuteTime": {
     "end_time": "2024-12-16T16:52:35.857125Z",
     "start_time": "2024-12-16T16:52:35.824531Z"
    }
   },
   "cell_type": "code",
   "source": [
    "avg_price_by_condition = df.groupby('condition').price.mean()\n",
    "print(avg_price_by_condition)"
   ],
   "id": "47b580643408e1e7",
   "outputs": [
    {
     "name": "stdout",
     "output_type": "stream",
     "text": [
      "condition\n",
      "excellent     51346.825953\n",
      "fair         761090.005614\n",
      "good          32545.203102\n",
      "like new      36402.041978\n",
      "new           23657.266667\n",
      "salvage        3605.534110\n",
      "Name: price, dtype: float64\n"
     ]
    }
   ],
   "execution_count": 17
  },
  {
   "metadata": {},
   "cell_type": "markdown",
   "source": "# 5. What is the average price of used cars by transmission?",
   "id": "d8c6ac385c0aa90e"
  },
  {
   "metadata": {
    "ExecuteTime": {
     "end_time": "2024-12-16T16:53:13.863909Z",
     "start_time": "2024-12-16T16:53:13.831798Z"
    }
   },
   "cell_type": "code",
   "source": [
    "avg_price_by_transmission = df.groupby('transmission').price.mean()\n",
    "print(avg_price_by_transmission)"
   ],
   "id": "c87485c00af401e7",
   "outputs": [
    {
     "name": "stdout",
     "output_type": "stream",
     "text": [
      "transmission\n",
      "automatic     74881.003396\n",
      "manual       198416.336452\n",
      "other         30003.788376\n",
      "Name: price, dtype: float64\n"
     ]
    }
   ],
   "execution_count": 18
  },
  {
   "metadata": {},
   "cell_type": "markdown",
   "source": "# 6. what is the Most Common Car Models",
   "id": "7a718788c262a5ec"
  },
  {
   "metadata": {
    "ExecuteTime": {
     "end_time": "2024-12-16T16:53:51.980263Z",
     "start_time": "2024-12-16T16:53:51.938664Z"
    }
   },
   "cell_type": "code",
   "source": [
    "common_car_models = df['model'].value_counts().head(10)\n",
    "print(common_car_models)"
   ],
   "id": "605fd29cbbceafa9",
   "outputs": [
    {
     "name": "stdout",
     "output_type": "stream",
     "text": [
      "model\n",
      "f-150             8009\n",
      "silverado 1500    5140\n",
      "1500              4211\n",
      "camry             3135\n",
      "silverado         3023\n",
      "accord            2969\n",
      "wrangler          2848\n",
      "civic             2799\n",
      "altima            2779\n",
      "escape            2746\n",
      "Name: count, dtype: int64\n"
     ]
    }
   ],
   "execution_count": 20
  },
  {
   "metadata": {},
   "cell_type": "markdown",
   "source": "# 7. What is the Most Common Car Manufacturers",
   "id": "5eefcd0af50733a3"
  },
  {
   "metadata": {
    "ExecuteTime": {
     "end_time": "2024-12-16T16:54:36.451368Z",
     "start_time": "2024-12-16T16:54:36.424055Z"
    }
   },
   "cell_type": "code",
   "source": [
    "common_car_manufacturers = df['manufacturer'].value_counts().head(10)\n",
    "print(common_car_manufacturers)"
   ],
   "id": "7ca3a86997c55624",
   "outputs": [
    {
     "name": "stdout",
     "output_type": "stream",
     "text": [
      "manufacturer\n",
      "ford         70985\n",
      "chevrolet    55064\n",
      "toyota       34202\n",
      "honda        21269\n",
      "nissan       19067\n",
      "jeep         19014\n",
      "ram          18342\n",
      "gmc          16785\n",
      "bmw          14699\n",
      "dodge        13707\n",
      "Name: count, dtype: int64\n"
     ]
    }
   ],
   "execution_count": 22
  },
  {
   "metadata": {},
   "cell_type": "markdown",
   "source": "# 8. What is the Most Common Car Conditions",
   "id": "4792d6c325a0adfa"
  },
  {
   "metadata": {
    "ExecuteTime": {
     "end_time": "2024-12-16T16:54:44.311648Z",
     "start_time": "2024-12-16T16:54:44.290302Z"
    }
   },
   "cell_type": "code",
   "source": [
    "common_car_conditions = df['condition'].value_counts().head(10)\n",
    "print(common_car_conditions)"
   ],
   "id": "b0d3c1a333198443",
   "outputs": [
    {
     "name": "stdout",
     "output_type": "stream",
     "text": [
      "condition\n",
      "good         121456\n",
      "excellent    101467\n",
      "like new      21178\n",
      "fair           6769\n",
      "new            1305\n",
      "salvage         601\n",
      "Name: count, dtype: int64\n"
     ]
    }
   ],
   "execution_count": 23
  },
  {
   "metadata": {},
   "cell_type": "markdown",
   "source": "# 9. What is the Most Common Car Transmissions",
   "id": "b3f3b9459bd101c4"
  },
  {
   "metadata": {
    "ExecuteTime": {
     "end_time": "2024-12-16T16:54:49.083595Z",
     "start_time": "2024-12-16T16:54:49.059046Z"
    }
   },
   "cell_type": "code",
   "source": [
    "common_car_transmissions = df['transmission'].value_counts().head(10)\n",
    "print(common_car_transmissions)"
   ],
   "id": "1d223c73df477002",
   "outputs": [
    {
     "name": "stdout",
     "output_type": "stream",
     "text": [
      "transmission\n",
      "automatic    336524\n",
      "other         62682\n",
      "manual        25118\n",
      "Name: count, dtype: int64\n"
     ]
    }
   ],
   "execution_count": 24
  },
  {
   "metadata": {},
   "cell_type": "markdown",
   "source": "# 10. What is the Most Common Car Years",
   "id": "5081d545f5d933c2"
  },
  {
   "metadata": {
    "ExecuteTime": {
     "end_time": "2024-12-16T16:55:11.788955Z",
     "start_time": "2024-12-16T16:55:11.778882Z"
    }
   },
   "cell_type": "code",
   "source": [
    "common_car_years = df['year'].value_counts().head(10)\n",
    "print(common_car_years)"
   ],
   "id": "8577f21ced29fd40",
   "outputs": [
    {
     "name": "stdout",
     "output_type": "stream",
     "text": [
      "year\n",
      "2017.0    36420\n",
      "2018.0    36369\n",
      "2015.0    31538\n",
      "2013.0    30794\n",
      "2016.0    30434\n",
      "2014.0    30283\n",
      "2019.0    25375\n",
      "2012.0    23898\n",
      "2011.0    20341\n",
      "2020.0    19298\n",
      "Name: count, dtype: int64\n"
     ]
    }
   ],
   "execution_count": 25
  },
  {
   "metadata": {},
   "cell_type": "markdown",
   "source": "# 11. What is Most Common Car Types",
   "id": "7c0384b6e17d89e8"
  },
  {
   "metadata": {
    "ExecuteTime": {
     "end_time": "2024-12-16T16:58:48.377093Z",
     "start_time": "2024-12-16T16:58:48.354067Z"
    }
   },
   "cell_type": "code",
   "source": [
    "common_car_types = df['type'].value_counts().head(10)\n",
    "print(common_car_types)"
   ],
   "id": "29d2b9e2419e47",
   "outputs": [
    {
     "name": "stdout",
     "output_type": "stream",
     "text": [
      "type\n",
      "sedan          87056\n",
      "SUV            77284\n",
      "pickup         43510\n",
      "truck          35279\n",
      "other          22110\n",
      "coupe          19204\n",
      "hatchback      16598\n",
      "wagon          10751\n",
      "van             8548\n",
      "convertible     7731\n",
      "Name: count, dtype: int64\n"
     ]
    }
   ],
   "execution_count": 29
  },
  {
   "metadata": {},
   "cell_type": "markdown",
   "source": "# 12. What is the Most Common Car Fuel Types",
   "id": "984e30cfc00239c6"
  },
  {
   "metadata": {
    "ExecuteTime": {
     "end_time": "2024-12-16T16:58:53.269799Z",
     "start_time": "2024-12-16T16:58:53.246339Z"
    }
   },
   "cell_type": "code",
   "source": [
    "common_car_fuel_types = df['fuel'].value_counts().head(10)\n",
    "print(common_car_fuel_types)"
   ],
   "id": "48034daefc6cbafb",
   "outputs": [
    {
     "name": "stdout",
     "output_type": "stream",
     "text": [
      "fuel\n",
      "gas         356209\n",
      "other        30728\n",
      "diesel       30062\n",
      "hybrid        5170\n",
      "electric      1698\n",
      "Name: count, dtype: int64\n"
     ]
    }
   ],
   "execution_count": 31
  },
  {
   "metadata": {},
   "cell_type": "markdown",
   "source": "# 13. What is the Most Common Car Cylinders",
   "id": "268c7dfea0359810"
  },
  {
   "metadata": {
    "ExecuteTime": {
     "end_time": "2024-12-16T16:58:54.059254Z",
     "start_time": "2024-12-16T16:58:54.037963Z"
    }
   },
   "cell_type": "code",
   "source": [
    "common_car_cylinders = df['cylinders'].value_counts().head(10)\n",
    "print(common_car_cylinders)"
   ],
   "id": "dfd5885031c01262",
   "outputs": [
    {
     "name": "stdout",
     "output_type": "stream",
     "text": [
      "cylinders\n",
      "6 cylinders     94169\n",
      "4 cylinders     77642\n",
      "8 cylinders     72062\n",
      "5 cylinders      1712\n",
      "10 cylinders     1455\n",
      "other            1298\n",
      "3 cylinders       655\n",
      "12 cylinders      209\n",
      "Name: count, dtype: int64\n"
     ]
    }
   ],
   "execution_count": 33
  },
  {
   "metadata": {},
   "cell_type": "markdown",
   "source": "# 14. How does mileage (odometer reading) affect the car price?",
   "id": "5dd2c917376e364d"
  },
  {
   "metadata": {
    "ExecuteTime": {
     "end_time": "2024-12-16T16:58:56.947075Z",
     "start_time": "2024-12-16T16:58:55.994474Z"
    }
   },
   "cell_type": "code",
   "source": [
    "sns.scatterplot(data=df, x='odometer', y='price')\n",
    "plt.title('Mileage (Odometer) vs. Price')\n",
    "plt.xlabel('Mileage (in miles)')\n",
    "plt.ylabel('Price (in USD)')\n",
    "plt.show()"
   ],
   "id": "de935b8cd5367bdf",
   "outputs": [
    {
     "data": {
      "text/plain": [
       "<Figure size 640x480 with 1 Axes>"
      ],
      "image/png": "[encoded data removed]"
     },
     "metadata": {},
     "output_type": "display_data"
    }
   ],
   "execution_count": 39
  },
  {
   "metadata": {},
   "cell_type": "markdown",
   "source": "",
   "id": "9bf5bb9e06b34c2b"
  },
  {
   "metadata": {},
   "cell_type": "markdown",
   "source": "# 15. How do the car prices vary by posting date (seasonality)",
   "id": "61b6710ec3777ae9"
  },
  {
   "metadata": {
    "ExecuteTime": {
     "end_time": "2024-12-16T17:07:55.547972Z",
     "start_time": "2024-12-16T17:07:53.954578Z"
    }
   },
   "cell_type": "code",
   "source": [
    "# Price Distribution by Posting Date\n",
    "\n",
    "df['posting_date'] = pd.to_datetime(df['posting_date'], errors='coerce')\n",
    "\n",
    "# Extract month from posting date to analyze seasonality\n",
    "df['month'] = df['posting_date'].dt.month\n",
    "avg_price_by_month = df.groupby('month')['price'].mean()\n",
    "\n",
    "# Plot seasonality in prices\n",
    "plt.figure(figsize=(10, 6))\n",
    "avg_price_by_month.plot(kind='bar')\n",
    "plt.title('Average Car Price by Month of Posting')\n",
    "plt.xlabel('Month')\n",
    "plt.ylabel('Average Price (in USD)')\n",
    "plt.xticks(rotation=0)\n",
    "plt.show()"
   ],
   "id": "c408328962f65ab6",
   "outputs": [
    {
     "data": {
      "text/plain": [
       "<Figure size 1000x600 with 1 Axes>"
      ],
      "image/png": "[encoded data removed]"
     },
     "metadata": {},
     "output_type": "display_data"
    }
   ],
   "execution_count": 41
  },
  {
   "metadata": {},
   "cell_type": "markdown",
   "source": "# 16. Which counties have the highest number of car listings?",
   "id": "a3a314be9099a64"
  },
  {
   "metadata": {
    "ExecuteTime": {
     "end_time": "2024-12-16T17:10:09.232051Z",
     "start_time": "2024-12-16T17:10:09.199630Z"
    }
   },
   "cell_type": "code",
   "source": [
    "avg_price_by_transmission = df.groupby('transmission')['price'].mean().sort_values(ascending=False)\n",
    "print(avg_price_by_transmission)"
   ],
   "id": "d678e30f0bc7f60",
   "outputs": [
    {
     "name": "stdout",
     "output_type": "stream",
     "text": [
      "transmission\n",
      "manual       198416.336452\n",
      "automatic     74881.003396\n",
      "other         30003.788376\n",
      "Name: price, dtype: float64\n"
     ]
    }
   ],
   "execution_count": 44
  },
  {
   "metadata": {},
   "cell_type": "markdown",
   "source": "# 17.What is the distribution of car prices by fuel type (e.g., gas, diesel, electric)?",
   "id": "776ba7ce45d23ce9"
  },
  {
   "metadata": {
    "jupyter": {
     "is_executing": true
    }
   },
   "cell_type": "code",
   "source": [
    "avg_price_by_fuel = df.groupby('fuel')['price'].mean().sort_values(ascending=False)\n",
    "print(avg_price_by_fuel)"
   ],
   "id": "86a9be01ccce1d8e",
   "outputs": [],
   "execution_count": null
  },
  {
   "metadata": {},
   "cell_type": "code",
   "outputs": [],
   "execution_count": null,
   "source": "",
   "id": "5953240d48eaa212"
  }
 ],
 "metadata": {
  "kernelspec": {
   "display_name": "Python 3",
   "language": "python",
   "name": "python3"
  },
  "language_info": {
   "codemirror_mode": {
    "name": "ipython",
    "version": 2
   },
   "file_extension": ".py",
   "mimetype": "text/x-python",
   "name": "python",
   "nbconvert_exporter": "python",
   "pygments_lexer": "ipython2",
   "version": "2.7.6"
  }
 },
 "nbformat": 4,
 "nbformat_minor": 5
}
